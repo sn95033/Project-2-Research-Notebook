{
 "cells": [
  {
   "cell_type": "code",
   "execution_count": 84,
   "metadata": {},
   "outputs": [
    {
     "name": "stdout",
     "output_type": "stream",
     "text": [
      "Collecting periodictable\n",
      "  Downloading https://files.pythonhosted.org/packages/7d/6e/2094f598f9cb7313fd80f277825a953942ca0055d4f0a48912e9f4902c1e/periodictable-1.5.0.tar.gz (662kB)\n",
      "Requirement already satisfied: pyparsing in c:\\users\\zachmih\\anaconda3\\lib\\site-packages (from periodictable) (2.2.0)\n",
      "Requirement already satisfied: numpy in c:\\users\\zachmih\\anaconda3\\lib\\site-packages (from periodictable) (1.15.1)\n",
      "Building wheels for collected packages: periodictable\n",
      "  Building wheel for periodictable (setup.py): started\n",
      "  Building wheel for periodictable (setup.py): finished with status 'done'\n",
      "  Stored in directory: C:\\Users\\zachmih\\AppData\\Local\\pip\\Cache\\wheels\\13\\4a\\aa\\62f2e31825986256396d88f55d7b5144db5d4e60a4573de958\n",
      "Successfully built periodictable\n",
      "Installing collected packages: periodictable\n",
      "Successfully installed periodictable-1.5.0\n"
     ]
    },
    {
     "name": "stderr",
     "output_type": "stream",
     "text": [
      "You are using pip version 19.0.3, however version 19.1 is available.\n",
      "You should consider upgrading via the 'python -m pip install --upgrade pip' command.\n"
     ]
    }
   ],
   "source": [
    "!pip install periodictable\n"
   ]
  },
  {
   "cell_type": "code",
   "execution_count": 1,
   "metadata": {},
   "outputs": [],
   "source": [
    "import pandas as pd\n",
    "import numpy as np\n",
    "import re"
   ]
  },
  {
   "cell_type": "code",
   "execution_count": 56,
   "metadata": {
    "scrolled": true
   },
   "outputs": [
    {
     "data": {
      "text/plain": [
       "0       EA Friis, RS Lakes, JB Park - Journal of Mater...\n",
       "1       XH Yang, JX Bai, HB Yan, JJ Kuang, TJ Lu… - Tr...\n",
       "2       LE Murr, SM Gaytan, F Medina, E Martinez… - Ma...\n",
       "3       EM Castrodeza, C Mapelli, M Vedani… - Journal ...\n",
       "4       Z Wang, H Ma, L Zhao, G Yang - Scripta Materia...\n",
       "5       M Wicklein, K Thoma - Materials Science and En...\n",
       "6       H Liu, J Wei, Z Qu - Journal of Sound and Vibr...\n",
       "7       S De Schampheleire, P De Jaeger, K De Kerpel… ...\n",
       "8       N Michailidis, F Stergioudi, H Omar, DN Tsipas...\n",
       "9       DJ Sypeck, HNG Wadley - Advanced Engineering M...\n",
       "10      EA Friis, RS Lakes, JB Park - Journal of Mater...\n",
       "11      XH Yang, JX Bai, HB Yan, JJ Kuang, TJ Lu… - Tr...\n",
       "12      LE Murr, SM Gaytan, F Medina, E Martinez… - Ma...\n",
       "13      EM Castrodeza, C Mapelli, M Vedani… - Journal ...\n",
       "14      Z Wang, H Ma, L Zhao, G Yang - Scripta Materia...\n",
       "15      M Wicklein, K Thoma - Materials Science and En...\n",
       "16      H Liu, J Wei, Z Qu - Journal of Sound and Vibr...\n",
       "17      S De Schampheleire, P De Jaeger, K De Kerpel… ...\n",
       "18      N Michailidis, F Stergioudi, H Omar, DN Tsipas...\n",
       "19      DJ Sypeck, HNG Wadley - Advanced Engineering M...\n",
       "20      N Jha, DP Mondal, JD Majumdar, A Badkul, AK Jh...\n",
       "21      K Boomsma, D Poulikakos - Journal of …, 2002 -...\n",
       "22      S Mellouli, H Dhaou, F Askri, A Jemni… - Inter...\n",
       "23                     N Dukhan - 2013 - books.google.com\n",
       "24      S Yu, J Liu, M Wei, Y Luo, X Zhu, Y Liu - Mate...\n",
       "25      HNG Wadley, NA Fleck, AG Evans - Composites Sc...\n",
       "26      AA Sertkaya, K Altınısık, K Dincer - Experimen...\n",
       "27      E Amsterdam, JTM De Hosson, PR Onck - Scripta ...\n",
       "28      N Dukhan, KC Chen - Experimental Thermal and F...\n",
       "29      C Moon, D Kim, GB Abadi, SY Yoon, KC Kim - Int...\n",
       "                              ...                        \n",
       "2581    C Heisig, W Zhang, ST Oyama - Applied catalysi...\n",
       "2582    L Gong, S Kyriakides, WY Jang - International ...\n",
       "2583    PK Pinnoji, P Mahajan, N Bourdet, C Deck… - In...\n",
       "2584    A Burteau, F N'Guyen, JD Bartout, S Forest… - ...\n",
       "2585      KS Boomsma - 2002 - research-collection.ethz.ch\n",
       "2586    C Kádár, F Chmelĺk, M Cieslar, J Lendvai - Scr...\n",
       "2587    J Randrianalisoa, D Baillis - Comptes Rendus P...\n",
       "2588    P Ranut - Applied Thermal Engineering, 2016 - ...\n",
       "2589    W Yang, P He, T Lin, C Song, R Li, D Jia - Mat...\n",
       "2590    KC Kelley, JJ Votoupal - US Patent 6,979,513, ...\n",
       "2591    C Heisig, W Zhang, ST Oyama - Applied catalysi...\n",
       "2592    L Gong, S Kyriakides, WY Jang - International ...\n",
       "2593    PK Pinnoji, P Mahajan, N Bourdet, C Deck… - In...\n",
       "2594    A Burteau, F N'Guyen, JD Bartout, S Forest… - ...\n",
       "2595      KS Boomsma - 2002 - research-collection.ethz.ch\n",
       "2596    C Kádár, F Chmelĺk, M Cieslar, J Lendvai - Scr...\n",
       "2597    J Randrianalisoa, D Baillis - Comptes Rendus P...\n",
       "2598    P Ranut - Applied Thermal Engineering, 2016 - ...\n",
       "2599    W Yang, P He, T Lin, C Song, R Li, D Jia - Mat...\n",
       "2600    KC Kelley, JJ Votoupal - US Patent 6,979,513, ...\n",
       "2601    C Heisig, W Zhang, ST Oyama - Applied catalysi...\n",
       "2602    L Gong, S Kyriakides, WY Jang - International ...\n",
       "2603    PK Pinnoji, P Mahajan, N Bourdet, C Deck… - In...\n",
       "2604    A Burteau, F N'Guyen, JD Bartout, S Forest… - ...\n",
       "2605      KS Boomsma - 2002 - research-collection.ethz.ch\n",
       "2606    C Kádár, F Chmelĺk, M Cieslar, J Lendvai - Scr...\n",
       "2607    J Randrianalisoa, D Baillis - Comptes Rendus P...\n",
       "2608    P Ranut - Applied Thermal Engineering, 2016 - ...\n",
       "2609    W Yang, P He, T Lin, C Song, R Li, D Jia - Mat...\n",
       "2610    KC Kelley, JJ Votoupal - US Patent 6,979,513, ...\n",
       "Name: Stats, Length: 2611, dtype: object"
      ]
     },
     "execution_count": 56,
     "metadata": {},
     "output_type": "execute_result"
    }
   ],
   "source": [
    "# read in the various CSVs from the scraping\n",
    "\n",
    "raw_6 = pd.read_csv('Output Data/Articles_6.csv', dtype = str )\n",
    "\n",
    "raw_6[\"Stats\"]"
   ]
  },
  {
   "cell_type": "code",
   "execution_count": null,
   "metadata": {},
   "outputs": [],
   "source": []
  },
  {
   "cell_type": "code",
   "execution_count": null,
   "metadata": {},
   "outputs": [],
   "source": []
  },
  {
   "cell_type": "code",
   "execution_count": 3,
   "metadata": {},
   "outputs": [
    {
     "data": {
      "text/html": [
       "<div>\n",
       "<style scoped>\n",
       "    .dataframe tbody tr th:only-of-type {\n",
       "        vertical-align: middle;\n",
       "    }\n",
       "\n",
       "    .dataframe tbody tr th {\n",
       "        vertical-align: top;\n",
       "    }\n",
       "\n",
       "    .dataframe thead th {\n",
       "        text-align: right;\n",
       "    }\n",
       "</style>\n",
       "<table border=\"1\" class=\"dataframe\">\n",
       "  <thead>\n",
       "    <tr style=\"text-align: right;\">\n",
       "      <th></th>\n",
       "      <th>Authors</th>\n",
       "      <th>Citations</th>\n",
       "      <th>Date</th>\n",
       "      <th>Full Text Available</th>\n",
       "      <th>Journal</th>\n",
       "      <th>Stats</th>\n",
       "      <th>Summary</th>\n",
       "      <th>Title</th>\n",
       "    </tr>\n",
       "  </thead>\n",
       "  <tbody>\n",
       "    <tr>\n",
       "      <th>0</th>\n",
       "      <td>TJ Lu, HA Stone, MF Ashb</td>\n",
       "      <td>567</td>\n",
       "      <td>1998</td>\n",
       "      <td>[PDF] paper.edu.cn</td>\n",
       "      <td>Acta materialia</td>\n",
       "      <td>TJ Lu, HA Stone, MF Ashby - Acta materialia, 1...</td>\n",
       "      <td>The paper explores the use of open-celled meta...</td>\n",
       "      <td>Heat transfer in open-cell metal foams</td>\n",
       "    </tr>\n",
       "    <tr>\n",
       "      <th>1</th>\n",
       "      <td>K Boomsma, D Poulikakos, Y Ventiko</td>\n",
       "      <td>295</td>\n",
       "      <td>2003</td>\n",
       "      <td>[PDF] psu.edu</td>\n",
       "      <td>… Journal of Heat and Fluid Flow</td>\n",
       "      <td>K Boomsma, D Poulikakos, Y Ventikos - … Journa...</td>\n",
       "      <td>A new approach to modeling the flow through a ...</td>\n",
       "      <td>Simulations of flow through open cell metal fo...</td>\n",
       "    </tr>\n",
       "    <tr>\n",
       "      <th>2</th>\n",
       "      <td>S Krishnan, JY Murthy</td>\n",
       "      <td>198</td>\n",
       "      <td>2006</td>\n",
       "      <td>[PDF] purdue.edu</td>\n",
       "      <td>Journal of …</td>\n",
       "      <td>S Krishnan, JY Murthy… - Journal of …, 2006 - ...</td>\n",
       "      <td>Flows in porous media may be modeled using two...</td>\n",
       "      <td>Direct simulation of transport in open-cell me...</td>\n",
       "    </tr>\n",
       "    <tr>\n",
       "      <th>3</th>\n",
       "      <td>A Kopanidis, A Theodorakakos, E Gavaises</td>\n",
       "      <td>141</td>\n",
       "      <td>2010</td>\n",
       "      <td>[PDF] academia.edu</td>\n",
       "      <td>International Journal of …</td>\n",
       "      <td>A Kopanidis, A Theodorakakos, E Gavaises… - In...</td>\n",
       "      <td>A 3D numerical simulation methodology for the ...</td>\n",
       "      <td>3D numerical simulation of flow and conjugate ...</td>\n",
       "    </tr>\n",
       "    <tr>\n",
       "      <th>4</th>\n",
       "      <td>YW Kwon, RE Cooke, C Par</td>\n",
       "      <td>119</td>\n",
       "      <td>2003</td>\n",
       "      <td>No</td>\n",
       "      <td>Materials Science and Engineering: A</td>\n",
       "      <td>YW Kwon, RE Cooke, C Park - Materials Science ...</td>\n",
       "      <td>Representative unit-cell models were developed...</td>\n",
       "      <td>Representative unit-cell models for open-cell ...</td>\n",
       "    </tr>\n",
       "  </tbody>\n",
       "</table>\n",
       "</div>"
      ],
      "text/plain": [
       "                                    Authors Citations  Date  \\\n",
       "0                  TJ Lu, HA Stone, MF Ashb       567  1998   \n",
       "1        K Boomsma, D Poulikakos, Y Ventiko       295  2003   \n",
       "2                     S Krishnan, JY Murthy       198  2006   \n",
       "3  A Kopanidis, A Theodorakakos, E Gavaises       141  2010   \n",
       "4                  YW Kwon, RE Cooke, C Par       119  2003   \n",
       "\n",
       "  Full Text Available                               Journal  \\\n",
       "0  [PDF] paper.edu.cn                       Acta materialia   \n",
       "1       [PDF] psu.edu      … Journal of Heat and Fluid Flow   \n",
       "2    [PDF] purdue.edu                          Journal of …   \n",
       "3  [PDF] academia.edu            International Journal of …   \n",
       "4                  No  Materials Science and Engineering: A   \n",
       "\n",
       "                                               Stats  \\\n",
       "0  TJ Lu, HA Stone, MF Ashby - Acta materialia, 1...   \n",
       "1  K Boomsma, D Poulikakos, Y Ventikos - … Journa...   \n",
       "2  S Krishnan, JY Murthy… - Journal of …, 2006 - ...   \n",
       "3  A Kopanidis, A Theodorakakos, E Gavaises… - In...   \n",
       "4  YW Kwon, RE Cooke, C Park - Materials Science ...   \n",
       "\n",
       "                                             Summary  \\\n",
       "0  The paper explores the use of open-celled meta...   \n",
       "1  A new approach to modeling the flow through a ...   \n",
       "2  Flows in porous media may be modeled using two...   \n",
       "3  A 3D numerical simulation methodology for the ...   \n",
       "4  Representative unit-cell models were developed...   \n",
       "\n",
       "                                               Title  \n",
       "0             Heat transfer in open-cell metal foams  \n",
       "1  Simulations of flow through open cell metal fo...  \n",
       "2  Direct simulation of transport in open-cell me...  \n",
       "3  3D numerical simulation of flow and conjugate ...  \n",
       "4  Representative unit-cell models for open-cell ...  "
      ]
     },
     "execution_count": 3,
     "metadata": {},
     "output_type": "execute_result"
    }
   ],
   "source": [
    "raw = pd.read_csv('Output Data/Articles.csv', dtype=str)\n",
    "raw.head()"
   ]
  },
  {
   "cell_type": "code",
   "execution_count": 4,
   "metadata": {},
   "outputs": [
    {
     "data": {
      "text/html": [
       "<div>\n",
       "<style scoped>\n",
       "    .dataframe tbody tr th:only-of-type {\n",
       "        vertical-align: middle;\n",
       "    }\n",
       "\n",
       "    .dataframe tbody tr th {\n",
       "        vertical-align: top;\n",
       "    }\n",
       "\n",
       "    .dataframe thead th {\n",
       "        text-align: right;\n",
       "    }\n",
       "</style>\n",
       "<table border=\"1\" class=\"dataframe\">\n",
       "  <thead>\n",
       "    <tr style=\"text-align: right;\">\n",
       "      <th></th>\n",
       "      <th>Authors</th>\n",
       "      <th>Citations</th>\n",
       "      <th>Date</th>\n",
       "      <th>Full Text Available</th>\n",
       "      <th>Journal</th>\n",
       "      <th>Stats</th>\n",
       "      <th>Summary</th>\n",
       "      <th>Title</th>\n",
       "    </tr>\n",
       "  </thead>\n",
       "  <tbody>\n",
       "    <tr>\n",
       "      <th>0</th>\n",
       "      <td>L Jing, Z Wang, J Ning, L Zha</td>\n",
       "      <td>73</td>\n",
       "      <td>2011</td>\n",
       "      <td>No</td>\n",
       "      <td>Composites Part B: Engineering</td>\n",
       "      <td>L Jing, Z Wang, J Ning, L Zhao - Composites Pa...</td>\n",
       "      <td>The deformation and failure modes of dynamical...</td>\n",
       "      <td>The dynamic response of sandwich beams with op...</td>\n",
       "    </tr>\n",
       "    <tr>\n",
       "      <th>1</th>\n",
       "      <td>KC Leong, LW Ji</td>\n",
       "      <td>65</td>\n",
       "      <td>2006</td>\n",
       "      <td>No</td>\n",
       "      <td>International Journal of Heat and fluid flow</td>\n",
       "      <td>KC Leong, LW Jin - International Journal of He...</td>\n",
       "      <td>An experimental study was performed to investi...</td>\n",
       "      <td>Characteristics of oscillating flow through a ...</td>\n",
       "    </tr>\n",
       "    <tr>\n",
       "      <th>2</th>\n",
       "      <td>WY Jang, S Kyriakides, AM Krayni</td>\n",
       "      <td>102</td>\n",
       "      <td>2010</td>\n",
       "      <td>[HTML] sciencedirect.com</td>\n",
       "      <td>International Journal of Solids and …</td>\n",
       "      <td>WY Jang, S Kyriakides, AM Kraynik - Internatio...</td>\n",
       "      <td>Two families of finite element models of aniso...</td>\n",
       "      <td>[HTML][HTML] On the compressive strength of op...</td>\n",
       "    </tr>\n",
       "    <tr>\n",
       "      <th>3</th>\n",
       "      <td>X Xiao, P Zhang, M L</td>\n",
       "      <td>91</td>\n",
       "      <td>2014</td>\n",
       "      <td>No</td>\n",
       "      <td>International Journal of Thermal Sciences</td>\n",
       "      <td>X Xiao, P Zhang, M Li - International Journal ...</td>\n",
       "      <td>The thermal conductivity of phase change mater...</td>\n",
       "      <td>Effective thermal conductivity of open-cell me...</td>\n",
       "    </tr>\n",
       "    <tr>\n",
       "      <th>4</th>\n",
       "      <td>KP Dharmasena, HNG Wadle</td>\n",
       "      <td>78</td>\n",
       "      <td>2002</td>\n",
       "      <td>[PDF] virginia.edu</td>\n",
       "      <td>Journal of materials research</td>\n",
       "      <td>KP Dharmasena, HNG Wadley - Journal of materia...</td>\n",
       "      <td>Cellular metal foams are of interest because o...</td>\n",
       "      <td>Electrical conductivity of open-cell metal foams</td>\n",
       "    </tr>\n",
       "  </tbody>\n",
       "</table>\n",
       "</div>"
      ],
      "text/plain": [
       "                            Authors Citations  Date       Full Text Available  \\\n",
       "0     L Jing, Z Wang, J Ning, L Zha        73  2011                        No   \n",
       "1                   KC Leong, LW Ji        65  2006                        No   \n",
       "2  WY Jang, S Kyriakides, AM Krayni       102  2010  [HTML] sciencedirect.com   \n",
       "3              X Xiao, P Zhang, M L        91  2014                        No   \n",
       "4          KP Dharmasena, HNG Wadle        78  2002        [PDF] virginia.edu   \n",
       "\n",
       "                                        Journal  \\\n",
       "0                Composites Part B: Engineering   \n",
       "1  International Journal of Heat and fluid flow   \n",
       "2         International Journal of Solids and …   \n",
       "3     International Journal of Thermal Sciences   \n",
       "4                 Journal of materials research   \n",
       "\n",
       "                                               Stats  \\\n",
       "0  L Jing, Z Wang, J Ning, L Zhao - Composites Pa...   \n",
       "1  KC Leong, LW Jin - International Journal of He...   \n",
       "2  WY Jang, S Kyriakides, AM Kraynik - Internatio...   \n",
       "3  X Xiao, P Zhang, M Li - International Journal ...   \n",
       "4  KP Dharmasena, HNG Wadley - Journal of materia...   \n",
       "\n",
       "                                             Summary  \\\n",
       "0  The deformation and failure modes of dynamical...   \n",
       "1  An experimental study was performed to investi...   \n",
       "2  Two families of finite element models of aniso...   \n",
       "3  The thermal conductivity of phase change mater...   \n",
       "4  Cellular metal foams are of interest because o...   \n",
       "\n",
       "                                               Title  \n",
       "0  The dynamic response of sandwich beams with op...  \n",
       "1  Characteristics of oscillating flow through a ...  \n",
       "2  [HTML][HTML] On the compressive strength of op...  \n",
       "3  Effective thermal conductivity of open-cell me...  \n",
       "4   Electrical conductivity of open-cell metal foams  "
      ]
     },
     "execution_count": 4,
     "metadata": {},
     "output_type": "execute_result"
    }
   ],
   "source": [
    "raw_3 = pd.read_csv('Output Data/Articles_3.csv', dtype=str)\n",
    "raw_3.head()"
   ]
  },
  {
   "cell_type": "markdown",
   "metadata": {},
   "source": [
    "## Something wrong with this csv\n",
    "raw_5 = pd.read_csv('Project-2/Output Data/Articles_5.csv')\n",
    "raw_5.head()\n"
   ]
  },
  {
   "cell_type": "markdown",
   "metadata": {},
   "source": [
    "## Something wrong with this csv \n",
    "raw_4 = pd.read_csv('Project-2/Output Data/Articles_4.csv')\n",
    "raw_4.head()"
   ]
  },
  {
   "cell_type": "markdown",
   "metadata": {},
   "source": [
    "# Concatenate the csvs that read well and then start cleaning the data\n",
    "\n",
    "1. Remove duplicate rows\n",
    "2. Reset the index\n",
    "3. Remove rows which have non-numerical data in the Citations column\n",
    "4. Re-extract the \"Date\"  from the \"Stats\" column (some cells were corrupted),  and then change the datatype to int\n",
    "5. Create Topics_Tags column by parsing the Summary text and Title text and comparing to a list of Topics keywords\n",
    "6. Create Properties_Tags column by parsing the Summary text and Title text and comparing to a list of Mechanical and Thermal properties keywords\n",
    "7. Nice to have:  Re-extract the \"Authors\" and \"Journals\"  from the Stats column;  there are some spelling errors."
   ]
  },
  {
   "cell_type": "code",
   "execution_count": 5,
   "metadata": {},
   "outputs": [
    {
     "data": {
      "text/plain": [
       "(10, 20, 2611)"
      ]
     },
     "execution_count": 5,
     "metadata": {},
     "output_type": "execute_result"
    }
   ],
   "source": [
    "len(raw), len(raw_3), len(raw_6)"
   ]
  },
  {
   "cell_type": "code",
   "execution_count": 6,
   "metadata": {},
   "outputs": [],
   "source": [
    "# Concatenate the csvs that seem to be working\n",
    "\n",
    "references = pd.concat([raw,raw_3,raw_6])\n",
    "\n"
   ]
  },
  {
   "cell_type": "code",
   "execution_count": 7,
   "metadata": {},
   "outputs": [],
   "source": [
    "#ref = references.astype({\"Authors\": str, \"Citations\": str, \"Date\": str, \"Full Text Available\": str,\n",
    "#                         \"Journal\": str, \"Stats\": str, \"Summary\": str, \"Title\": str,\n",
    "#                         })"
   ]
  },
  {
   "cell_type": "code",
   "execution_count": 8,
   "metadata": {},
   "outputs": [
    {
     "data": {
      "text/plain": [
       "(849, 2641)"
      ]
     },
     "execution_count": 8,
     "metadata": {},
     "output_type": "execute_result"
    }
   ],
   "source": [
    "# Remove duplicate rows\n",
    "\n",
    "drop_dup = references.drop_duplicates()\n",
    "\n",
    "len(drop_dup), len(references)"
   ]
  },
  {
   "cell_type": "code",
   "execution_count": 9,
   "metadata": {
    "scrolled": false
   },
   "outputs": [
    {
     "data": {
      "text/html": [
       "<div>\n",
       "<style scoped>\n",
       "    .dataframe tbody tr th:only-of-type {\n",
       "        vertical-align: middle;\n",
       "    }\n",
       "\n",
       "    .dataframe tbody tr th {\n",
       "        vertical-align: top;\n",
       "    }\n",
       "\n",
       "    .dataframe thead th {\n",
       "        text-align: right;\n",
       "    }\n",
       "</style>\n",
       "<table border=\"1\" class=\"dataframe\">\n",
       "  <thead>\n",
       "    <tr style=\"text-align: right;\">\n",
       "      <th></th>\n",
       "      <th>Authors</th>\n",
       "      <th>Citations</th>\n",
       "      <th>Date</th>\n",
       "      <th>Full Text Available</th>\n",
       "      <th>Journal</th>\n",
       "      <th>Stats</th>\n",
       "      <th>Summary</th>\n",
       "      <th>Title</th>\n",
       "    </tr>\n",
       "  </thead>\n",
       "  <tbody>\n",
       "    <tr>\n",
       "      <th>0</th>\n",
       "      <td>TJ Lu, HA Stone, MF Ashb</td>\n",
       "      <td>567</td>\n",
       "      <td>1998</td>\n",
       "      <td>[PDF] paper.edu.cn</td>\n",
       "      <td>Acta materialia</td>\n",
       "      <td>TJ Lu, HA Stone, MF Ashby - Acta materialia, 1...</td>\n",
       "      <td>The paper explores the use of open-celled meta...</td>\n",
       "      <td>Heat transfer in open-cell metal foams</td>\n",
       "    </tr>\n",
       "    <tr>\n",
       "      <th>1</th>\n",
       "      <td>K Boomsma, D Poulikakos, Y Ventiko</td>\n",
       "      <td>295</td>\n",
       "      <td>2003</td>\n",
       "      <td>[PDF] psu.edu</td>\n",
       "      <td>… Journal of Heat and Fluid Flow</td>\n",
       "      <td>K Boomsma, D Poulikakos, Y Ventikos - … Journa...</td>\n",
       "      <td>A new approach to modeling the flow through a ...</td>\n",
       "      <td>Simulations of flow through open cell metal fo...</td>\n",
       "    </tr>\n",
       "    <tr>\n",
       "      <th>2</th>\n",
       "      <td>S Krishnan, JY Murthy</td>\n",
       "      <td>198</td>\n",
       "      <td>2006</td>\n",
       "      <td>[PDF] purdue.edu</td>\n",
       "      <td>Journal of …</td>\n",
       "      <td>S Krishnan, JY Murthy… - Journal of …, 2006 - ...</td>\n",
       "      <td>Flows in porous media may be modeled using two...</td>\n",
       "      <td>Direct simulation of transport in open-cell me...</td>\n",
       "    </tr>\n",
       "    <tr>\n",
       "      <th>3</th>\n",
       "      <td>A Kopanidis, A Theodorakakos, E Gavaises</td>\n",
       "      <td>141</td>\n",
       "      <td>2010</td>\n",
       "      <td>[PDF] academia.edu</td>\n",
       "      <td>International Journal of …</td>\n",
       "      <td>A Kopanidis, A Theodorakakos, E Gavaises… - In...</td>\n",
       "      <td>A 3D numerical simulation methodology for the ...</td>\n",
       "      <td>3D numerical simulation of flow and conjugate ...</td>\n",
       "    </tr>\n",
       "    <tr>\n",
       "      <th>4</th>\n",
       "      <td>YW Kwon, RE Cooke, C Par</td>\n",
       "      <td>119</td>\n",
       "      <td>2003</td>\n",
       "      <td>No</td>\n",
       "      <td>Materials Science and Engineering: A</td>\n",
       "      <td>YW Kwon, RE Cooke, C Park - Materials Science ...</td>\n",
       "      <td>Representative unit-cell models were developed...</td>\n",
       "      <td>Representative unit-cell models for open-cell ...</td>\n",
       "    </tr>\n",
       "    <tr>\n",
       "      <th>5</th>\n",
       "      <td>N Dukhan, PD Quinon</td>\n",
       "      <td>102</td>\n",
       "      <td>E Cru</td>\n",
       "      <td>[PDF] academia.edu</td>\n",
       "      <td>amos</td>\n",
       "      <td>N Dukhan, PD Quinones-Ramos, E Cruz-Ruiz… - In...</td>\n",
       "      <td>A one-dimensional heat transfer model for open...</td>\n",
       "      <td>One-dimensional heat transfer analysis in open...</td>\n",
       "    </tr>\n",
       "    <tr>\n",
       "      <th>6</th>\n",
       "      <td>DT Queheillalt, DD Hass, DJ Sypeck</td>\n",
       "      <td>93</td>\n",
       "      <td>2001</td>\n",
       "      <td>[PDF] 128.143.22.36</td>\n",
       "      <td>Journal of Materials …</td>\n",
       "      <td>DT Queheillalt, DD Hass, DJ Sypeck… - Journal ...</td>\n",
       "      <td>Low-density, open-cell nickel base superalloy ...</td>\n",
       "      <td>Synthesis of open-cell metal foams by template...</td>\n",
       "    </tr>\n",
       "    <tr>\n",
       "      <th>7</th>\n",
       "      <td>B Ozmat, B Leyda, B Benso</td>\n",
       "      <td>82</td>\n",
       "      <td>2004</td>\n",
       "      <td>[PDF] metallicfoams.com</td>\n",
       "      <td>Materials and manufacturing …</td>\n",
       "      <td>B Ozmat, B Leyda, B Benson - Materials and man...</td>\n",
       "      <td>The key structural and thermo-physical propert...</td>\n",
       "      <td>Thermal applications of open-cell metal foams</td>\n",
       "    </tr>\n",
       "    <tr>\n",
       "      <th>8</th>\n",
       "      <td>M Bai, JN Chun</td>\n",
       "      <td>99</td>\n",
       "      <td>2011</td>\n",
       "      <td>No</td>\n",
       "      <td>International Journal of Thermal Sciences</td>\n",
       "      <td>M Bai, JN Chung - International Journal of The...</td>\n",
       "      <td>Enhanced cooling methods are needed for advanc...</td>\n",
       "      <td>Analytical and numerical prediction of heat tr...</td>\n",
       "    </tr>\n",
       "    <tr>\n",
       "      <th>9</th>\n",
       "      <td>KK Bodla, JY Murthy, SV Garimell</td>\n",
       "      <td>91</td>\n",
       "      <td>Part …, 2010</td>\n",
       "      <td>[PDF] purdue.edu</td>\n",
       "      <td>Numerical Heat Transfer</td>\n",
       "      <td>KK Bodla, JY Murthy, SV Garimella - Numerical ...</td>\n",
       "      <td>Important heat transfer parameters of aluminum...</td>\n",
       "      <td>Microtomography-based simulation of transport ...</td>\n",
       "    </tr>\n",
       "  </tbody>\n",
       "</table>\n",
       "</div>"
      ],
      "text/plain": [
       "                                    Authors Citations          Date  \\\n",
       "0                  TJ Lu, HA Stone, MF Ashb       567          1998   \n",
       "1        K Boomsma, D Poulikakos, Y Ventiko       295          2003   \n",
       "2                     S Krishnan, JY Murthy       198          2006   \n",
       "3  A Kopanidis, A Theodorakakos, E Gavaises       141          2010   \n",
       "4                  YW Kwon, RE Cooke, C Par       119          2003   \n",
       "5                       N Dukhan, PD Quinon       102         E Cru   \n",
       "6        DT Queheillalt, DD Hass, DJ Sypeck        93          2001   \n",
       "7                 B Ozmat, B Leyda, B Benso        82          2004   \n",
       "8                            M Bai, JN Chun        99          2011   \n",
       "9          KK Bodla, JY Murthy, SV Garimell        91  Part …, 2010   \n",
       "\n",
       "       Full Text Available                                    Journal  \\\n",
       "0       [PDF] paper.edu.cn                            Acta materialia   \n",
       "1            [PDF] psu.edu           … Journal of Heat and Fluid Flow   \n",
       "2         [PDF] purdue.edu                               Journal of …   \n",
       "3       [PDF] academia.edu                 International Journal of …   \n",
       "4                       No       Materials Science and Engineering: A   \n",
       "5       [PDF] academia.edu                                       amos   \n",
       "6      [PDF] 128.143.22.36                     Journal of Materials …   \n",
       "7  [PDF] metallicfoams.com              Materials and manufacturing …   \n",
       "8                       No  International Journal of Thermal Sciences   \n",
       "9         [PDF] purdue.edu                    Numerical Heat Transfer   \n",
       "\n",
       "                                               Stats  \\\n",
       "0  TJ Lu, HA Stone, MF Ashby - Acta materialia, 1...   \n",
       "1  K Boomsma, D Poulikakos, Y Ventikos - … Journa...   \n",
       "2  S Krishnan, JY Murthy… - Journal of …, 2006 - ...   \n",
       "3  A Kopanidis, A Theodorakakos, E Gavaises… - In...   \n",
       "4  YW Kwon, RE Cooke, C Park - Materials Science ...   \n",
       "5  N Dukhan, PD Quinones-Ramos, E Cruz-Ruiz… - In...   \n",
       "6  DT Queheillalt, DD Hass, DJ Sypeck… - Journal ...   \n",
       "7  B Ozmat, B Leyda, B Benson - Materials and man...   \n",
       "8  M Bai, JN Chung - International Journal of The...   \n",
       "9  KK Bodla, JY Murthy, SV Garimella - Numerical ...   \n",
       "\n",
       "                                             Summary  \\\n",
       "0  The paper explores the use of open-celled meta...   \n",
       "1  A new approach to modeling the flow through a ...   \n",
       "2  Flows in porous media may be modeled using two...   \n",
       "3  A 3D numerical simulation methodology for the ...   \n",
       "4  Representative unit-cell models were developed...   \n",
       "5  A one-dimensional heat transfer model for open...   \n",
       "6  Low-density, open-cell nickel base superalloy ...   \n",
       "7  The key structural and thermo-physical propert...   \n",
       "8  Enhanced cooling methods are needed for advanc...   \n",
       "9  Important heat transfer parameters of aluminum...   \n",
       "\n",
       "                                               Title  \n",
       "0             Heat transfer in open-cell metal foams  \n",
       "1  Simulations of flow through open cell metal fo...  \n",
       "2  Direct simulation of transport in open-cell me...  \n",
       "3  3D numerical simulation of flow and conjugate ...  \n",
       "4  Representative unit-cell models for open-cell ...  \n",
       "5  One-dimensional heat transfer analysis in open...  \n",
       "6  Synthesis of open-cell metal foams by template...  \n",
       "7      Thermal applications of open-cell metal foams  \n",
       "8  Analytical and numerical prediction of heat tr...  \n",
       "9  Microtomography-based simulation of transport ...  "
      ]
     },
     "execution_count": 9,
     "metadata": {},
     "output_type": "execute_result"
    }
   ],
   "source": [
    "# reset the index for ref\n",
    "\n",
    "ref  = drop_dup.reset_index(drop=True)\n",
    "ref.head(10)"
   ]
  },
  {
   "cell_type": "markdown",
   "metadata": {},
   "source": [
    "# Eliminate non-numerics from the Citation Column\n"
   ]
  },
  {
   "cell_type": "code",
   "execution_count": 10,
   "metadata": {},
   "outputs": [
    {
     "data": {
      "text/plain": [
       "0      TJ Lu, HA Stone, MF Ashby - Acta materialia, 1...\n",
       "1      K Boomsma, D Poulikakos, Y Ventikos - … Journa...\n",
       "2      S Krishnan, JY Murthy… - Journal of …, 2006 - ...\n",
       "3      A Kopanidis, A Theodorakakos, E Gavaises… - In...\n",
       "4      YW Kwon, RE Cooke, C Park - Materials Science ...\n",
       "5      N Dukhan, PD Quinones-Ramos, E Cruz-Ruiz… - In...\n",
       "6      DT Queheillalt, DD Hass, DJ Sypeck… - Journal ...\n",
       "7      B Ozmat, B Leyda, B Benson - Materials and man...\n",
       "8      M Bai, JN Chung - International Journal of The...\n",
       "9      KK Bodla, JY Murthy, SV Garimella - Numerical ...\n",
       "10     L Jing, Z Wang, J Ning, L Zhao - Composites Pa...\n",
       "11     KC Leong, LW Jin - International Journal of He...\n",
       "12     WY Jang, S Kyriakides, AM Kraynik - Internatio...\n",
       "13     X Xiao, P Zhang, M Li - International Journal ...\n",
       "14     KP Dharmasena, HNG Wadley - Journal of materia...\n",
       "15     M Vesenjak, C Veyhl, T Fiedler - Materials Sci...\n",
       "16     DT Queheillalt, Y Katsumura, HNG Wadley - Scri...\n",
       "17     S Krishnan, SV Garimella… - Journal of …, 2008...\n",
       "18     M Wang, N Pan - International Journal of Heat ...\n",
       "19     C San Marchi, A Mortensen - Acta Materialia, 2...\n",
       "20     I Ghosh - Journal of heat transfer, 2008 - … ....\n",
       "21     K Boomsma, D Poulikakos, F Zwick - Mechanics o...\n",
       "22     KA Dannemann, J Lankford Jr - Materials Scienc...\n",
       "23     I Ghosh - Journal of Heat Transfer, 2009 - ebo...\n",
       "24     N Dukhan, M Ali - International Journal of The...\n",
       "25     S Kim, CW Lee - Procedia Materials Science, 20...\n",
       "26     CY Zhao, TJ Lu, HP Hodson - International Jour...\n",
       "27     N Dukhan, K Patel - Journal of Porous Material...\n",
       "28     KI Salas, AM Waas - Journal of heat transfer, ...\n",
       "29     N Dukhan, Ö Bağcı, M Özdemir - International J...\n",
       "                             ...                        \n",
       "771    G Ercolino, P Stelmachowski… - Industrial & En...\n",
       "772    S Dhara, P Bhargava - International journal of...\n",
       "773    J Yang, L Yang, C Xu, X Du - International Jou...\n",
       "774    X Xia, W Zhao, Z Wei, Z Wang - Materials & Des...\n",
       "775    T Wada, H Kato - Scripta Materialia, 2013 - El...\n",
       "776    J Kadkhodapour, S Raeisi - Computational Mater...\n",
       "777    L Salvo, G Martin, M Suard, A Marmottant… - Co...\n",
       "778    E Hernández-Nava, CJ Smith, F Derguti… - Acta ...\n",
       "779    K Hooman, MR Malayeri - Energy Conversion and ...\n",
       "780    M Amani, M Ameri, A Kasaeian - Experimental Th...\n",
       "781    Y Mu, G Yao - Journal of materials engineering...\n",
       "782    C Tuck, JRG Evans - Journal of materials scien...\n",
       "783    ZX Lu, Q Liu, ZY Yang - physica status solidi ...\n",
       "784    L Jin, KC Leong - IEEE Transactions on Compone...\n",
       "785             PJ Veale - 2010 - scholarworks.umass.edu\n",
       "786    Y Li, Y Wei, L Hou, C Guo, S Yang - Journal of...\n",
       "787    Y Sun, R Burgueño, AJ Vanderklok, SA Tekalur… ...\n",
       "788    YA Samad, Y Li, A Schiffer, SM Alhassan, K Lia...\n",
       "789    H Eifert, CJ Yu, J Banhart, J Baumeister, W Se...\n",
       "790    JM Thompson, A Goraltchouk… - US Patent App. 1...\n",
       "791    C Heisig, W Zhang, ST Oyama - Applied catalysi...\n",
       "792    L Gong, S Kyriakides, WY Jang - International ...\n",
       "793    PK Pinnoji, P Mahajan, N Bourdet, C Deck… - In...\n",
       "794    A Burteau, F N'Guyen, JD Bartout, S Forest… - ...\n",
       "795      KS Boomsma - 2002 - research-collection.ethz.ch\n",
       "796    C Kádár, F Chmelĺk, M Cieslar, J Lendvai - Scr...\n",
       "797    J Randrianalisoa, D Baillis - Comptes Rendus P...\n",
       "798    P Ranut - Applied Thermal Engineering, 2016 - ...\n",
       "799    W Yang, P He, T Lin, C Song, R Li, D Jia - Mat...\n",
       "800    KC Kelley, JJ Votoupal - US Patent 6,979,513, ...\n",
       "Name: Stats, Length: 801, dtype: object"
      ]
     },
     "execution_count": 10,
     "metadata": {},
     "output_type": "execute_result"
    }
   ],
   "source": [
    "# Drop Rows based on whether or not the Citation column contains \"% R\",  although I couldn't make the wildcards work in this method.\n",
    "# The below methods were tried and don't work\n",
    "## STUCK HERE - Trying to eliminate the rows where the Citation number is corrupted (i.e. not a number)\n",
    "## The pattern which we are trying to get rid of is \"4 R\", \"5 R\", \"6 R\", \"7 R\", \"8 R\", \"9 R\"  in the citation column\n",
    "\n",
    "# None of the below approaches worked \n",
    "#refs_2 = refs_2.drop(refs_1[refs_2.Citations.contains(' R', regex=True)].index)\n",
    "#refs_2[refs_2.Citations.str.contains('^R'), :] \n",
    "#refs_2.loc[refs_2.Citations.str.contains(' R', regex = True), :]\n",
    "\n",
    "# I was also planning to eliminate the US Patents, from the \"Journal\" column,  it's more tedious than expected\n",
    "# https://stackoverflow.com/questions/13851535/how-to-delete-rows-from-a-pandas-dataframe-based-on-a-conditional-expression\n",
    "\n",
    "#ref1 = ref.drop(ref[ref.Journal==\"US Patent 4\"].index)\n",
    "#ref2 = ref1.drop(ref1[ref1.Journal==\"US Patent 5\"].index)\n",
    "#ref3 = ref2.drop(ref2[ref2.Journal==\"US Patent 6\"].index)\n",
    "#ref4 = ref3.drop(ref3[ref3.Journal==\"US Patent 7\"].index)\n",
    "#ref5 = ref4.drop(ref4[ref4.Journal==\"US Patent 8\"].index)\n",
    "#ref6 = ref5.drop(ref5[ref5.Journal==\"US Patent 9\"].index)\n",
    "#ref7 = ref6.drop(ref6[ref6.Journal==\"US Patent\"].index)\n",
    "\n",
    "\n",
    "ref1 = ref.drop(ref[ref.Citations==\"4 R\"].index)\n",
    "ref2 = ref1.drop(ref1[ref1.Citations==\"5 R\"].index)\n",
    "ref3 = ref2.drop(ref2[ref2.Citations==\"6 R\"].index)\n",
    "ref4 = ref3.drop(ref3[ref3.Citations==\"7 R\"].index)\n",
    "ref5 = ref4.drop(ref4[ref4.Citations==\"8 R\"].index)\n",
    "ref6 = ref5.drop(ref5[ref5.Citations==\"9 R\"].index)\n",
    "\n",
    "#len(ref6)\n",
    "\n",
    "ref6  = ref6.reset_index(drop=True)\n",
    "ref6[\"Stats\"]\n",
    "\n",
    "\n",
    "\n",
    "\n"
   ]
  },
  {
   "cell_type": "code",
   "execution_count": 11,
   "metadata": {},
   "outputs": [],
   "source": [
    "# Change datatype for Citations column\n",
    "\n",
    "ref7 = ref6.astype({\"Citations\": int, })\n"
   ]
  },
  {
   "cell_type": "code",
   "execution_count": 12,
   "metadata": {
    "scrolled": true
   },
   "outputs": [
    {
     "data": {
      "text/plain": [
       "(801, Authors                object\n",
       " Citations               int32\n",
       " Date                   object\n",
       " Full Text Available    object\n",
       " Journal                object\n",
       " Stats                  object\n",
       " Summary                object\n",
       " Title                  object\n",
       " dtype: object)"
      ]
     },
     "execution_count": 12,
     "metadata": {},
     "output_type": "execute_result"
    }
   ],
   "source": [
    "len(ref7), ref7.dtypes\n",
    "#we have dropped out 48 references"
   ]
  },
  {
   "cell_type": "markdown",
   "metadata": {},
   "source": [
    "\n",
    "# Year from the Stats column and change the datatype to integer\n",
    "\n",
    "There are some errors in the columns,  for Author names, year and journal\n",
    "https://chrisalbon.com/python/data_wrangling/pandas_regex_to_create_columns/\n",
    "\n",
    "https://www.geeksforgeeks.org/split-a-string-into-columns-using-regex-in-pandas-dataframe/"
   ]
  },
  {
   "cell_type": "code",
   "execution_count": 13,
   "metadata": {},
   "outputs": [
    {
     "data": {
      "text/plain": [
       "Authors                object\n",
       "Citations               int32\n",
       "Date                    int32\n",
       "Full Text Available    object\n",
       "Journal                object\n",
       "Stats                  object\n",
       "Summary                object\n",
       "Title                  object\n",
       "dtype: object"
      ]
     },
     "execution_count": 13,
     "metadata": {},
     "output_type": "execute_result"
    }
   ],
   "source": [
    "# Clean up the Date column  and make the dtype integer\n",
    "\n",
    "ref7['Date'] = ref7['Stats'].str.extract('(\\d\\d\\d\\d)', expand=True) \n",
    "\n",
    "ref8 = ref7.astype({\"Date\": int, })\n",
    "\n",
    "ref8.dtypes\n",
    "\n",
    "\n"
   ]
  },
  {
   "cell_type": "code",
   "execution_count": 14,
   "metadata": {},
   "outputs": [
    {
     "data": {
      "text/plain": [
       "(0    TJ Lu, HA Stone, MF Ashby - Acta materialia, 1...\n",
       " 1    K Boomsma, D Poulikakos, Y Ventikos - … Journa...\n",
       " 2    S Krishnan, JY Murthy… - Journal of …, 2006 - ...\n",
       " 3    A Kopanidis, A Theodorakakos, E Gavaises… - In...\n",
       " 4    YW Kwon, RE Cooke, C Park - Materials Science ...\n",
       " Name: Stats, dtype: object, 801)"
      ]
     },
     "execution_count": 14,
     "metadata": {},
     "output_type": "execute_result"
    }
   ],
   "source": [
    "# Use Python Regex to get the Journal name cleanly from the Stats column\n",
    "# Also try to get the Authors names cleanly\n",
    "ref8[\"Stats\"].head(), len(ref8)\n"
   ]
  },
  {
   "cell_type": "code",
   "execution_count": 43,
   "metadata": {},
   "outputs": [
    {
     "data": {
      "text/plain": [
       "(0                                     Acta materialia\n",
       " 1                                                 NaN\n",
       " 2                                        Journal of …\n",
       " 3                          International Journal of …\n",
       " 4                Materials Science and Engineering: A\n",
       " 5                          International Journal of …\n",
       " 6                              Journal of Materials …\n",
       " 7                       Materials and manufacturing …\n",
       " 8           International Journal of Thermal Sciences\n",
       " 9                     Numerical Heat Transfer, Part …\n",
       " 10                     Composites Part B: Engineering\n",
       " 11       International Journal of Heat and fluid flow\n",
       " 12              International Journal of Solids and …\n",
       " 13          International Journal of Thermal Sciences\n",
       " 14                      Journal of materials research\n",
       " 15               Materials Science and Engineering: A\n",
       " 16                                 Scripta Materialia\n",
       " 17                                       Journal of …\n",
       " 18    International Journal of Heat and Mass Transfer\n",
       " 19                                    Acta Materialia\n",
       " Name: Journals, dtype: object, 801)"
      ]
     },
     "execution_count": 43,
     "metadata": {},
     "output_type": "execute_result"
    }
   ],
   "source": [
    "# The regex doesn't work the way I expect,  likely it's due to the extra characters one can see in the CSV file\n",
    "# Somtimes gives NaNs\n",
    "\n",
    "# use regex with pandas to extract the Publisher data better....still having trouble with web address\n",
    "\n",
    "#journalRegex = re.compile(r'- (\\w.*)\\,')   \n",
    "# Test code for the syntax\n",
    "\n",
    "\n",
    "ref8['Journals'] = ref8['Stats'].str.extract(r'- (\\w.*)\\,')\n",
    "ref8['Journals'].head(20), len(ref8)\n",
    "\n",
    "#ref8['Publisher'] = ref8['Stats'].str.extract(r'(- (w.*)\\, | - ([a-zA-Z0-9_.+-]+))')\n",
    "# Potentially add publisher information .  This extraction seems to get some of the web address\n",
    "\n",
    "# Used the first reference\n",
    "# https://stackoverflow.com/questions/49184752/iterate-different-regular-expression-patterns-over-df-column\n",
    "#  https://stackoverflow.com/questions/49169725/combining-for-loop-iterations-into-a-single-line-and-no-match-handling"
   ]
  },
  {
   "cell_type": "code",
   "execution_count": 50,
   "metadata": {},
   "outputs": [
    {
     "data": {
      "text/plain": [
       "(781                Y Mu\n",
       " 782              C Tuck\n",
       " 783               ZX Lu\n",
       " 784               L Jin\n",
       " 785                 NaN\n",
       " 786                Y Li\n",
       " 787               Y Sun\n",
       " 788            YA Samad\n",
       " 789            H Eifert\n",
       " 790         JM Thompson\n",
       " 791            C Heisig\n",
       " 792              L Gong\n",
       " 793          PK Pinnoji\n",
       " 794           A Burteau\n",
       " 795                 NaN\n",
       " 796             C Kádár\n",
       " 797    J Randrianalisoa\n",
       " 798                 NaN\n",
       " 799              W Yang\n",
       " 800           KC Kelley\n",
       " Name: First Author, dtype: object, 801)"
      ]
     },
     "execution_count": 50,
     "metadata": {},
     "output_type": "execute_result"
    }
   ],
   "source": [
    "# The regex doesn't work the way I expect,  likely it's due to the extra characters one can see in the CSV file\n",
    "# Extract the first author name only,  sometimes gives NaNs\n",
    "ref8['First Author'] = ref8['Authors'].str.extract(r'(\\w.*?)((\\,) | (\\ -))')\n",
    "ref8['First Author'].tail(20), len(ref8)\n"
   ]
  },
  {
   "cell_type": "code",
   "execution_count": null,
   "metadata": {},
   "outputs": [],
   "source": []
  },
  {
   "cell_type": "markdown",
   "metadata": {},
   "source": [
    "# Create lists of keywords to compare to the abstract and title"
   ]
  },
  {
   "cell_type": "code",
   "execution_count": null,
   "metadata": {},
   "outputs": [],
   "source": [
    "mech_properties = []\n",
    "thermal_props = []\n",
    "elements = []\n",
    "element_names = []\n",
    "mech_tags = []\n",
    "thermal_tags = []"
   ]
  },
  {
   "cell_type": "markdown",
   "metadata": {},
   "source": [
    "# Create Topic Tags by searching for adjectives and periodic table elements in front of Open cell Metal Foam in the summary and title\n"
   ]
  },
  {
   "cell_type": "code",
   "execution_count": null,
   "metadata": {},
   "outputs": [],
   "source": []
  },
  {
   "cell_type": "markdown",
   "metadata": {},
   "source": [
    "# Prepare the Journal and Author data for plotting in Chart.js"
   ]
  },
  {
   "cell_type": "code",
   "execution_count": 79,
   "metadata": {},
   "outputs": [
    {
     "data": {
      "text/plain": [
       "Materials & Design                          36\n",
       "Materials Science and Engineering: A        32\n",
       "Materials Science and …                     27\n",
       "International Journal of …                  25\n",
       "Scripta Materialia                          20\n",
       "Acta Materialia                             17\n",
       "International Journal of Heat and Mass …    16\n",
       "Journal of …                                15\n",
       "Materials Letters                           13\n",
       "Advanced …                                  13\n",
       "Name: Journals, dtype: int64"
      ]
     },
     "execution_count": 79,
     "metadata": {},
     "output_type": "execute_result"
    }
   ],
   "source": [
    "journal_pareto = ref8[\"Journals\"].value_counts()\n",
    "#journal_pareto.head(10)\n",
    "journals = journal_pareto.iloc[:10,]\n",
    "#journals\n",
    "\n"
   ]
  },
  {
   "cell_type": "code",
   "execution_count": 81,
   "metadata": {},
   "outputs": [
    {
     "data": {
      "text/plain": [
       "N Dukhan         16\n",
       "N Michailidis     7\n",
       "A Jung            7\n",
       "CY Zhao           6\n",
       "S Mancin          6\n",
       "MAA Mendes        6\n",
       "X Xia             5\n",
       "E Amsterdam       5\n",
       "DP Mondal         4\n",
       "P De Jaeger       4\n",
       "Name: First Author, dtype: int64"
      ]
     },
     "execution_count": 81,
     "metadata": {},
     "output_type": "execute_result"
    }
   ],
   "source": [
    "Author_pareto = ref8[\"First Author\"].value_counts()\n",
    "#Author_pareto. head(10)\n",
    "authors = Author_pareto[:10,]\n",
    "authors"
   ]
  },
  {
   "cell_type": "code",
   "execution_count": null,
   "metadata": {},
   "outputs": [],
   "source": []
  },
  {
   "cell_type": "code",
   "execution_count": null,
   "metadata": {},
   "outputs": [],
   "source": []
  },
  {
   "cell_type": "code",
   "execution_count": 82,
   "metadata": {},
   "outputs": [],
   "source": [
    "ref8.to_csv(\"Output Data/reference.csv\")\n",
    "references.to_csv(\"Output Data/ref_with_dups.csv\")\n",
    "journals.to_csv(\"Output Data/journals.csv\")\n",
    "authors.to_csv(\"Output Data/authors.csv\")\n"
   ]
  },
  {
   "cell_type": "code",
   "execution_count": null,
   "metadata": {},
   "outputs": [],
   "source": []
  },
  {
   "cell_type": "code",
   "execution_count": null,
   "metadata": {},
   "outputs": [],
   "source": []
  }
 ],
 "metadata": {
  "kernelspec": {
   "display_name": "Python 3",
   "language": "python",
   "name": "python3"
  },
  "language_info": {
   "codemirror_mode": {
    "name": "ipython",
    "version": 3
   },
   "file_extension": ".py",
   "mimetype": "text/x-python",
   "name": "python",
   "nbconvert_exporter": "python",
   "pygments_lexer": "ipython3",
   "version": "3.7.0"
  }
 },
 "nbformat": 4,
 "nbformat_minor": 2
}
